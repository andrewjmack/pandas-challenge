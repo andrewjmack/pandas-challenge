{
 "cells": [
  {
   "attachments": {},
   "cell_type": "markdown",
   "metadata": {},
   "source": [
    "# PyCity Schools Analysis\n",
    "\n",
    "## Summary\n",
    "    \n",
    "    - School and student data sets were utilized to perform analysis across the school district based on reading and math scores, passing rates, grade (9-12) and school type (charter or district), size and budget.\n",
    "\n",
    "## Conclusions \n",
    "    \n",
    "    - Comprised of (15) schools, the school district overall boasts higher average scores and passing rates for reading than for math. As would be expected, the percentage of students in the school district passing both math and reading is lowest.\n",
    "\n",
    "    - The charter school types are all smaller by size (number of students) than any of the district school types (i.e., the district school types all have larger student populations than any of the charter schools).\n",
    "\n",
    "    - On a per school basis, the top five schools by overall passing rate are all of the charter school type, while the bottom five schools are all district school types.    \n",
    "    \n",
    "    - By and large those top performing charter schools also have a lower per student budget than the bottom five district schools (with the exceptions of charter Thomas High School ($638/student) and district Rodriguez High School ($637/student).\n",
    "\n",
    "    -No significant trends in math or reading scores were detected across grades (i.e., student classes 9-12); scores were relatively flat from 9th through 12th grades by school. \n",
    "\n",
    "    - The Scores by School Spending summary further suggests that with increases in per student spending, all scores and passing rates decrease.\n",
    "    \n",
    "    - The Scores by School Size sumary generally suggests that students in smaller schools perform better than larger schools with the exception of medium schools and small schools having roughly the same overall passing rate.\n",
    "\n",
    "    - By school type, the charter schools have higher average math and reading scores than the district schools. Charter students also have higher passing rates than their district peers in math and in reading. However, the combined passing rates (students that pass both math and reading) stand out as the most significant indicator of outperformance by school type (90% vs. 53%, respectively).\n",
    "  \n",
    "---"
   ]
  },
  {
   "cell_type": "code",
   "execution_count": null,
   "metadata": {},
   "outputs": [],
   "source": [
    "# Dependencies and Setup\n",
    "import pandas as pd\n",
    "from pathlib import Path\n",
    "\n",
    "# File to Load (Remember to Change These)\n",
    "school_data_to_load = Path(\"Resources/schools.csv\")\n",
    "student_data_to_load = Path(\"Resources/students.csv\")\n",
    "\n",
    "# Read School and Student Data File and store into Pandas DataFrames\n",
    "school_data = pd.read_csv(school_data_to_load)\n",
    "student_data = pd.read_csv(student_data_to_load)\n",
    "\n",
    "# Combine the data into a single dataset.  \n",
    "school_data_complete = pd.merge(student_data, school_data, how=\"left\", on=[\"school_name\", \"school_name\"])\n",
    "school_data_complete.head()"
   ]
  },
  {
   "cell_type": "markdown",
   "metadata": {},
   "source": [
    "## District Summary"
   ]
  },
  {
   "cell_type": "code",
   "execution_count": null,
   "metadata": {},
   "outputs": [],
   "source": [
    "# Calculate the total number of unique schools\n",
    "school_count = len(school_data)\n",
    "\n",
    "school_count"
   ]
  },
  {
   "cell_type": "code",
   "execution_count": null,
   "metadata": {},
   "outputs": [],
   "source": [
    "# Calculate the total number of students\n",
    "student_count = len(student_data)\n",
    "\n",
    "student_count"
   ]
  },
  {
   "cell_type": "code",
   "execution_count": null,
   "metadata": {},
   "outputs": [],
   "source": [
    "# Calculate the total budget\n",
    "total_budget = school_data[\"budget\"].sum()\n",
    "\n",
    "total_budget"
   ]
  },
  {
   "cell_type": "code",
   "execution_count": null,
   "metadata": {},
   "outputs": [],
   "source": [
    "# Calculate the average (mean) math score\n",
    "average_math_score = student_data['math_score'].sum() / float(student_count)\n",
    "\n",
    "average_math_score"
   ]
  },
  {
   "cell_type": "code",
   "execution_count": null,
   "metadata": {},
   "outputs": [],
   "source": [
    "# Calculate the average (mean) reading score\n",
    "average_reading_score = school_data_complete['reading_score'].sum() / float(student_count)\n",
    "\n",
    "average_reading_score"
   ]
  },
  {
   "cell_type": "code",
   "execution_count": null,
   "metadata": {},
   "outputs": [],
   "source": [
    "# Use the following to calculate the percentage of students who passed math (math scores greather than or equal to 70)\n",
    "passing_math_count = school_data_complete[(school_data_complete[\"math_score\"] >= 70)].count()[\"student_name\"]\n",
    "passing_math_percentage = passing_math_count / float(student_count) * 100\n",
    "\n",
    "passing_math_percentage"
   ]
  },
  {
   "cell_type": "code",
   "execution_count": null,
   "metadata": {},
   "outputs": [],
   "source": [
    "# Calculate the percentage of students who passed reading (hint: look at how the math percentage was calculated)\n",
    "# Calculated to learn alternative method with aid of bootcamp tutor\n",
    "passing_reading_count = len(school_data_complete.loc[school_data_complete['reading_score'] >= 70, ['Student ID']])\n",
    "passing_reading_percentage = passing_reading_count / len(school_data_complete) * 100\n",
    "\n",
    "passing_reading_percentage"
   ]
  },
  {
   "cell_type": "code",
   "execution_count": null,
   "metadata": {},
   "outputs": [],
   "source": [
    "# Use the following to calculate the percentage of students that passed math and reading\n",
    "# passing_math_reading_count = school_data_complete[\n",
    "#     (school_data_complete[\"math_score\"] >= 70) & (school_data_complete[\"reading_score\"] >= 70)\n",
    "# ].count()[\"student_name\"]\n",
    "# overall_passing_rate = passing_math_reading_count /  float(student_count) * 100\n",
    "# overall_passing_rate\n",
    "\n",
    "passing_math_reading_count = len(school_data_complete.loc[(school_data_complete['reading_score'] >= 70) & \n",
    "                                 (school_data_complete['math_score'] >= 70) , ['Student ID']])\n",
    "overall_passing_rate = passing_math_reading_count / float(student_count) * 100\n",
    "\n",
    "overall_passing_rate"
   ]
  },
  {
   "cell_type": "code",
   "execution_count": null,
   "metadata": {},
   "outputs": [],
   "source": [
    "# Create a high-level snapshot of the district's key metrics in a DataFrame\n",
    "district_summary = pd.DataFrame({ 'Total Schools': [school_count],\n",
    "                                 'Total Students': [student_count],\n",
    "                                 'Total Budget': [total_budget],\n",
    "                                 'Average Math Score': [average_math_score],\n",
    "                                 'Average Reading Score': [average_reading_score],\n",
    "                                 '% Passing Math': [passing_math_percentage],\n",
    "                                 '% Passing Reading': [passing_reading_percentage],\n",
    "                                 '% Overall passing': [overall_passing_rate]\n",
    "                                })\n",
    "\n",
    "# Formatting\n",
    "district_summary[\"Total Students\"] = district_summary[\"Total Students\"].map(\"{:,}\".format)\n",
    "district_summary[\"Total Budget\"] = district_summary[\"Total Budget\"].map(\"${:,.2f}\".format)\n",
    "\n",
    "# district_summary.style.format({'Total Students': '{:,}', \n",
    "#                           \"Total School Budget\": \"${:,}\", \n",
    "#                           \"Per Student Budget\": \"${:.0f}\",\n",
    "#                           'Average Math Score': \"{:.1f}\", \n",
    "#                           'Average Reading Score': \"{:.1f}\", \n",
    "#                           \"% Passing Math\": \"{:.1%}\", \n",
    "#                           \"% Passing Reading\": \"{:.1%}\", \n",
    "#                           \"Overall Passing Rate\": \"{:.1%}\"})\n",
    "\n",
    "\n",
    "# Display the DataFrame\n",
    "district_summary"
   ]
  },
  {
   "cell_type": "markdown",
   "metadata": {},
   "source": [
    "## School Summary"
   ]
  },
  {
   "cell_type": "code",
   "execution_count": null,
   "metadata": {},
   "outputs": [],
   "source": [
    "# Use the code provided to select all of the school types\n",
    "school_types = school_data.set_index([\"school_name\"])[\"type\"]"
   ]
  },
  {
   "cell_type": "code",
   "execution_count": null,
   "metadata": {},
   "outputs": [],
   "source": [
    "# Calculate the total student count per school\n",
    "per_school_counts = school_data.set_index(['school_name'])['size']"
   ]
  },
  {
   "cell_type": "code",
   "execution_count": null,
   "metadata": {},
   "outputs": [],
   "source": [
    "# Calculate the total school budget and per capita spending per school\n",
    "per_school_budget = school_data.set_index(['school_name'])['budget']\n",
    "\n",
    "per_school_capita = per_school_budget / per_school_counts"
   ]
  },
  {
   "cell_type": "code",
   "execution_count": null,
   "metadata": {},
   "outputs": [],
   "source": [
    "# Calculate the average test scores per school\n",
    "per_school_math = school_data_complete.groupby(['school_name'])['math_score'].mean()\n",
    "\n",
    "per_school_reading = school_data_complete.groupby(['school_name'])['reading_score'].mean()"
   ]
  },
  {
   "cell_type": "code",
   "execution_count": null,
   "metadata": {},
   "outputs": [],
   "source": [
    "# Calculate the number of students per school with math scores of 70 or higher\n",
    "students_passing_math = school_data_complete.loc[school_data_complete['math_score'] >= 70, :] \n",
    "\n",
    "school_students_passing_math = students_passing_math.groupby(['school_name'])['Student ID'].count()"
   ]
  },
  {
   "cell_type": "code",
   "execution_count": null,
   "metadata": {},
   "outputs": [],
   "source": [
    "# Calculate the number of students per school with reading scores of 70 or higher\n",
    "students_passing_reading = school_data_complete.loc[school_data_complete['reading_score'] >= 70, :]\n",
    "\n",
    "school_students_passing_reading = students_passing_reading.groupby(['school_name'])['Student ID'].count()"
   ]
  },
  {
   "cell_type": "code",
   "execution_count": null,
   "metadata": {},
   "outputs": [],
   "source": [
    "# Use the provided code to calculate the number of students per school that passed both math and reading with scores of 70 or higher\n",
    "school_students_passing_math_and_reading = school_data_complete[\n",
    "                                        (school_data_complete[\"reading_score\"] >= 70) &\n",
    "                                         (school_data_complete[\"math_score\"] >= 70)\n",
    "                                         ]\n",
    "\n",
    "school_students_passing_math_and_reading = school_students_passing_math_and_reading.groupby([\"school_name\"]).size()"
   ]
  },
  {
   "cell_type": "code",
   "execution_count": null,
   "metadata": {},
   "outputs": [],
   "source": [
    "# Use the provided code to calculate the passing rates\n",
    "per_school_passing_math = school_students_passing_math / per_school_counts * 100\n",
    "per_school_passing_reading = school_students_passing_reading / per_school_counts * 100\n",
    "overall_passing_rate = school_students_passing_math_and_reading / per_school_counts * 100"
   ]
  },
  {
   "cell_type": "code",
   "execution_count": null,
   "metadata": {},
   "outputs": [],
   "source": [
    "# Create a DataFrame called `per_school_summary` with columns for the calculations above.\n",
    "per_school_summary = pd.DataFrame({'School Type': school_types,\n",
    "                                   'Total Students': per_school_counts,\n",
    "                                   'Total School Budget': per_school_budget,\n",
    "                                   'Per Student Budget': per_school_capita,\n",
    "                                   'Average Math Score': per_school_math,\n",
    "                                   'Average Reading Score': per_school_reading,\n",
    "                                   '% Passing Math': per_school_passing_math,\n",
    "                                   '% Passing Reading': per_school_passing_reading,\n",
    "                                   '% Overall Passing': overall_passing_rate\n",
    "                                  })\n",
    "\n",
    "# Formatting (code provided by school)\n",
    "per_school_summary[\"Total School Budget\"] = per_school_summary[\"Total School Budget\"].map(\"${:,.2f}\".format)\n",
    "per_school_summary[\"Per Student Budget\"] = per_school_summary[\"Per Student Budget\"].map(\"${:,.2f}\".format)\n",
    "\n",
    "per_school_summary.index.name = None\n",
    "\n",
    "# Display the DataFrame\n",
    "per_school_summary"
   ]
  },
  {
   "cell_type": "markdown",
   "metadata": {},
   "source": [
    "## Highest-Performing Schools (by % Overall Passing)"
   ]
  },
  {
   "cell_type": "code",
   "execution_count": null,
   "metadata": {
    "scrolled": true
   },
   "outputs": [],
   "source": [
    "# Sort the schools by `% Overall Passing` in descending order and display the top 5 rows.\n",
    "top_schools = per_school_summary.sort_values(['% Overall Passing'], ascending=False)\n",
    "\n",
    "top_schools.index.name = None\n",
    "\n",
    "top_schools.head(5)"
   ]
  },
  {
   "cell_type": "markdown",
   "metadata": {},
   "source": [
    "## Bottom Performing Schools (By % Overall Passing)"
   ]
  },
  {
   "cell_type": "code",
   "execution_count": null,
   "metadata": {},
   "outputs": [],
   "source": [
    "# Sort the schools by `% Overall Passing` in ascending order and display the top 5 rows.\n",
    "bottom_schools = per_school_summary.sort_values(['% Overall Passing'])\n",
    "\n",
    "bottom_schools.index.name = None\n",
    "\n",
    "bottom_schools.head(5)"
   ]
  },
  {
   "cell_type": "markdown",
   "metadata": {},
   "source": [
    "## Math Scores by Grade"
   ]
  },
  {
   "cell_type": "code",
   "execution_count": null,
   "metadata": {},
   "outputs": [],
   "source": [
    "# Use the code provided to separate the data by grade\n",
    "ninth_graders = school_data_complete[(school_data_complete[\"grade\"] == \"9th\")]\n",
    "tenth_graders = school_data_complete[(school_data_complete[\"grade\"] == \"10th\")]\n",
    "eleventh_graders = school_data_complete[(school_data_complete[\"grade\"] == \"11th\")]\n",
    "twelfth_graders = school_data_complete[(school_data_complete[\"grade\"] == \"12th\")]\n",
    "\n",
    "# Group by `school_name` and take the mean of the `math_score` column for each.\n",
    "ninth_grade_math_scores = ninth_graders.groupby(['school_name'])['math_score'].mean()\n",
    "tenth_grade_math_scores = tenth_graders.groupby(['school_name'])['math_score'].mean()\n",
    "eleventh_grade_math_scores = eleventh_graders.groupby(['school_name'])['math_score'].mean()\n",
    "twelfth_grade_math_scores = twelfth_graders.groupby(['school_name'])['math_score'].mean()\n",
    "\n",
    "# Combine each of the scores above into single DataFrame called `math_scores_by_grade`\n",
    "math_scores_dict = {\n",
    "                        \"9th\": ninth_grade_math_scores,\n",
    "                        \"10th\": tenth_grade_math_scores,\n",
    "                        \"11th\": eleventh_grade_math_scores,\n",
    "                        \"12th\": twelfth_grade_math_scores\n",
    "                        }\n",
    "\n",
    "math_scores_by_grade = pd.DataFrame(math_scores_dict)\n",
    "\n",
    "# Minor data wrangling\n",
    "math_scores_by_grade.index.name = None\n",
    "\n",
    "# Display the DataFrame\n",
    "math_scores_by_grade"
   ]
  },
  {
   "cell_type": "markdown",
   "metadata": {},
   "source": [
    "## Reading Score by Grade "
   ]
  },
  {
   "cell_type": "code",
   "execution_count": null,
   "metadata": {},
   "outputs": [],
   "source": [
    "# Use the code provided to separate the data by grade\n",
    "ninth_graders = school_data_complete[(school_data_complete[\"grade\"] == \"9th\")]\n",
    "tenth_graders = school_data_complete[(school_data_complete[\"grade\"] == \"10th\")]\n",
    "eleventh_graders = school_data_complete[(school_data_complete[\"grade\"] == \"11th\")]\n",
    "twelfth_graders = school_data_complete[(school_data_complete[\"grade\"] == \"12th\")]\n",
    "\n",
    "# Group by `school_name` and take the mean of the the `reading_score` column for each.\n",
    "ninth_grade_reading_scores = ninth_graders.groupby(['school_name'])['reading_score'].mean()\n",
    "tenth_grade_reading_scores = tenth_graders.groupby(['school_name'])['reading_score'].mean()\n",
    "eleventh_grade_reading_scores = eleventh_graders.groupby(['school_name'])['reading_score'].mean()\n",
    "twelfth_grade_reading_scores = twelfth_graders.groupby(['school_name'])['reading_score'].mean()\n",
    "\n",
    "# Combine each of the scores above into single DataFrame called `reading_scores_by_grade`\n",
    "reading_scores_dict = {\n",
    "                        \"9th\": ninth_grade_reading_scores,\n",
    "                        \"10th\": tenth_grade_reading_scores,\n",
    "                        \"11th\": eleventh_grade_reading_scores,\n",
    "                        \"12th\": twelfth_grade_reading_scores\n",
    "                        }\n",
    "\n",
    "reading_scores_by_grade = pd.DataFrame(reading_scores_dict)\n",
    "\n",
    "# Minor data wrangling\n",
    "reading_scores_by_grade = reading_scores_by_grade[[\"9th\", \"10th\", \"11th\", \"12th\"]]\n",
    "reading_scores_by_grade.index.name = None\n",
    "\n",
    "# Display the DataFrame\n",
    "reading_scores_by_grade"
   ]
  },
  {
   "cell_type": "markdown",
   "metadata": {},
   "source": [
    "## Scores by School Spending"
   ]
  },
  {
   "cell_type": "code",
   "execution_count": null,
   "metadata": {},
   "outputs": [],
   "source": [
    "# Establish the bins \n",
    "spending_bins = [0, 585, 630, 645, 680]\n",
    "spending_labels = [\"<$585\", \"$585-630\", \"$630-645\", \"$645-680\"]"
   ]
  },
  {
   "cell_type": "code",
   "execution_count": null,
   "metadata": {},
   "outputs": [],
   "source": [
    "# Create a copy of the school summary since it has the \"Per Student Budget\" \n",
    "school_spending_df = per_school_summary.copy()\n",
    "\n",
    "#Forced to recast the 'per student budget' data to float to overcome an error in pd.cut in next codeblock.\n",
    "school_spending_df['Per Student Budget'] = school_spending_df['Per Student Budget'].str.replace(\"$\", \"\").astype(float)"
   ]
  },
  {
   "cell_type": "code",
   "execution_count": null,
   "metadata": {},
   "outputs": [],
   "source": [
    "# Use `pd.cut` to categorize spending based on the bins.\n",
    "school_spending_df[\"Spending Ranges (Per Student)\"] = pd.cut(\n",
    "                                                            school_spending_df['Per Student Budget'],\n",
    "                                                            spending_bins,\n",
    "                                                            labels=spending_labels,\n",
    "                                                            include_lowest=True\n",
    "                                                            )\n",
    "\n",
    "#Reformatting 'per student budget' after pd.cut to overcome type error\n",
    "school_spending_df[\"Per Student Budget\"] = school_spending_df[\"Per Student Budget\"].map(\"${:,.2f}\".format)\n",
    "\n",
    "#Remove index header \"school_name\"\n",
    "school_spending_df.index.name = None\n",
    "\n",
    "school_spending_df"
   ]
  },
  {
   "cell_type": "code",
   "execution_count": null,
   "metadata": {},
   "outputs": [],
   "source": [
    "#  Calculate averages for the desired columns. \n",
    "spending_math_scores = school_spending_df.groupby([\"Spending Ranges (Per Student)\"])[\"Average Math Score\"].mean()\n",
    "spending_reading_scores = school_spending_df.groupby([\"Spending Ranges (Per Student)\"])[\"Average Reading Score\"].mean()\n",
    "spending_passing_math = school_spending_df.groupby([\"Spending Ranges (Per Student)\"])[\"% Passing Math\"].mean()\n",
    "spending_passing_reading = school_spending_df.groupby([\"Spending Ranges (Per Student)\"])[\"% Passing Reading\"].mean()\n",
    "overall_passing_spending = school_spending_df.groupby([\"Spending Ranges (Per Student)\"])[\"% Overall Passing\"].mean()"
   ]
  },
  {
   "cell_type": "code",
   "execution_count": null,
   "metadata": {},
   "outputs": [],
   "source": [
    "# Assemble into DataFrame\n",
    "spending_summary = pd.DataFrame({\n",
    "                                \"Average Math Score\": spending_math_scores,\n",
    "                                \"Average Reading Score\": spending_reading_scores,\n",
    "                                \"% Passing Math\": spending_passing_math,\n",
    "                                \"% Passing Reading\": spending_passing_reading,\n",
    "                                \"% Overall Passing\": overall_passing_spending\n",
    "                                })\n",
    "    \n",
    "# Display results\n",
    "spending_summary"
   ]
  },
  {
   "cell_type": "markdown",
   "metadata": {},
   "source": [
    "## Scores by School Size"
   ]
  },
  {
   "cell_type": "code",
   "execution_count": null,
   "metadata": {},
   "outputs": [],
   "source": [
    "# Establish the bins.\n",
    "size_bins = [0, 1000, 2000, 5000]\n",
    "size_labels = [\"Small (<1000)\", \"Medium (1000-2000)\", \"Large (2000-5000)\"]"
   ]
  },
  {
   "cell_type": "code",
   "execution_count": null,
   "metadata": {},
   "outputs": [],
   "source": [
    "# Categorize the spending based on the bins\n",
    "# Use `pd.cut` on the \"Total Students\" column of the `per_school_summary` DataFrame.\n",
    "\n",
    "per_school_summary[\"School Size\"] = pd.cut(\n",
    "                                            school_spending_df['Total Students'],\n",
    "                                            size_bins,\n",
    "                                            labels=size_labels,\n",
    "                                            include_lowest=True\n",
    "                                            )\n",
    "\n",
    "#Remove index header \"school_name\"\n",
    "per_school_summary.index.name = None\n",
    "\n",
    "per_school_summary"
   ]
  },
  {
   "cell_type": "code",
   "execution_count": null,
   "metadata": {},
   "outputs": [],
   "source": [
    "# Calculate averages for the desired columns (code block provided by the school).\n",
    "size_math_scores = per_school_summary.groupby([\"School Size\"])[\"Average Math Score\"].mean()\n",
    "size_reading_scores = per_school_summary.groupby([\"School Size\"])[\"Average Reading Score\"].mean()\n",
    "size_passing_math = per_school_summary.groupby([\"School Size\"])[\"% Passing Math\"].mean()\n",
    "size_passing_reading = per_school_summary.groupby([\"School Size\"])[\"% Passing Reading\"].mean()\n",
    "size_overall_passing = per_school_summary.groupby([\"School Size\"])[\"% Overall Passing\"].mean()"
   ]
  },
  {
   "cell_type": "code",
   "execution_count": null,
   "metadata": {
    "scrolled": true
   },
   "outputs": [],
   "source": [
    "# Create a DataFrame called `size_summary` that breaks down school performance based on school size (small, medium, or large).\n",
    "# Use the scores above to create a new DataFrame called `size_summary`\n",
    "size_summary = pd.DataFrame({\n",
    "                            \"Average Math Score\": size_math_scores,\n",
    "                                \"Average Reading Score\": size_reading_scores,\n",
    "                                \"% Passing Math\": size_passing_math,\n",
    "                                \"% Passing Reading\": size_passing_reading,\n",
    "                                \"% Overall Passing\": size_overall_passing\n",
    "                                })\n",
    "\n",
    "# Display results\n",
    "size_summary"
   ]
  },
  {
   "cell_type": "markdown",
   "metadata": {},
   "source": [
    "## Scores by School Type"
   ]
  },
  {
   "cell_type": "code",
   "execution_count": null,
   "metadata": {},
   "outputs": [],
   "source": [
    "# Group the per_school_summary DataFrame by \"School Type\" and average the results.\n",
    "average_math_score_by_type = per_school_summary.groupby([\"School Type\"])[\"Average Math Score\"].mean()\n",
    "average_reading_score_by_type = per_school_summary.groupby([\"School Type\"])[\"Average Reading Score\"].mean()\n",
    "average_percent_passing_math_by_type = per_school_summary.groupby([\"School Type\"])[\"% Passing Math\"].mean()\n",
    "average_percent_passing_reading_by_type = per_school_summary.groupby([\"School Type\"])[\"% Passing Reading\"].mean()\n",
    "average_percent_overall_passing_by_type = per_school_summary.groupby([\"School Type\"])[\"% Overall Passing\"].mean()"
   ]
  },
  {
   "cell_type": "code",
   "execution_count": null,
   "metadata": {},
   "outputs": [],
   "source": [
    "# Assemble the new data by type into a DataFrame called `type_summary`\n",
    "type_summary = pd.DataFrame({\n",
    "                            \"Average Math Score\": average_math_score_by_type,\n",
    "                            \"Average Reading Score\": average_reading_score_by_type,\n",
    "                            \"% Passing Math\": average_percent_passing_math_by_type,\n",
    "                            \"% Passing Reading\": average_percent_passing_reading_by_type,\n",
    "                            \"% Overall Passing\": average_percent_overall_passing_by_type\n",
    "                            })\n",
    "\n",
    "# Display results\n",
    "type_summary"
   ]
  },
  {
   "cell_type": "code",
   "execution_count": null,
   "metadata": {},
   "outputs": [],
   "source": []
  }
 ],
 "metadata": {
  "anaconda-cloud": {},
  "kernel_info": {
   "name": "python3"
  },
  "kernelspec": {
   "display_name": "Python 3 (ipykernel)",
   "language": "python",
   "name": "python3"
  },
  "language_info": {
   "codemirror_mode": {
    "name": "ipython",
    "version": 3
   },
   "file_extension": ".py",
   "mimetype": "text/x-python",
   "name": "python",
   "nbconvert_exporter": "python",
   "pygments_lexer": "ipython3",
   "version": "3.10.13"
  },
  "latex_envs": {
   "LaTeX_envs_menu_present": true,
   "autoclose": false,
   "autocomplete": true,
   "bibliofile": "biblio.bib",
   "cite_by": "apalike",
   "current_citInitial": 1,
   "eqLabelWithNumbers": true,
   "eqNumInitial": 1,
   "hotkeys": {
    "equation": "Ctrl-E",
    "itemize": "Ctrl-I"
   },
   "labels_anchors": false,
   "latex_user_defs": false,
   "report_style_numbering": false,
   "user_envs_cfg": false
  },
  "nteract": {
   "version": "0.8.4"
  },
  "vscode": {
   "interpreter": {
    "hash": "5384d77d82de63fd599f73e77f9ec786e7719288bf80a29ec0288c670ac3cf32"
   }
  }
 },
 "nbformat": 4,
 "nbformat_minor": 4
}
